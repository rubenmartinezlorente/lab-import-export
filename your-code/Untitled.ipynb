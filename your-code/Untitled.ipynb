{
 "cells": [
  {
   "cell_type": "code",
   "execution_count": 1,
   "metadata": {},
   "outputs": [],
   "source": [
    "# Libraries\n",
    "import pandas as pd\n",
    "from sqlalchemy import create_engine\n",
    "import pymysql"
   ]
  },
  {
   "cell_type": "code",
   "execution_count": 2,
   "metadata": {},
   "outputs": [],
   "source": [
    "##CONNECTION\n",
    "driver = 'mysql+pymysql'\n",
    "ip = '34.70.50.74'\n",
    "username = 'Paula'\n",
    "password = 'Ironhackers'\n",
    "db = 'Project2_Barcelona'\n",
    "connection_string  = f'{driver}://{username}:{password}@{ip}/{db}'"
   ]
  },
  {
   "cell_type": "code",
   "execution_count": 3,
   "metadata": {},
   "outputs": [],
   "source": [
    "engine = create_engine(connection_string)"
   ]
  },
  {
   "cell_type": "code",
   "execution_count": 9,
   "metadata": {},
   "outputs": [],
   "source": [
    "births = pd.read_csv('/Users/rubenmartinezlorente/data-bcn-prework/DATA_COURSE/PROJECTS/P2_Barcelona/Project-Week-2-Barcelona/datasets/3.-Population/births.csv')\n",
    "#births.to_sql('births',engine, index= False)  --> no index\n",
    "births.to_sql('births',engine)\n",
    "\n",
    "\n"
   ]
  },
  {
   "cell_type": "code",
   "execution_count": 15,
   "metadata": {},
   "outputs": [],
   "source": [
    "population = pd.read_csv('/Users/rubenmartinezlorente/data-bcn-prework/DATA_COURSE/PROJECTS/P2_Barcelona/Project-Week-2-Barcelona/datasets/3.-Population/population.csv')\n",
    "population.to_sql('population',engine)\n"
   ]
  },
  {
   "cell_type": "code",
   "execution_count": 16,
   "metadata": {},
   "outputs": [],
   "source": [
    "deaths = pd.read_csv('/Users/rubenmartinezlorente/data-bcn-prework/DATA_COURSE/PROJECTS/P2_Barcelona/Project-Week-2-Barcelona/datasets/3.-Population/deaths.csv')\n",
    "deaths.to_sql('deaths',engine)\n"
   ]
  },
  {
   "cell_type": "code",
   "execution_count": 18,
   "metadata": {},
   "outputs": [],
   "source": [
    "names = pd.read_csv('/Users/rubenmartinezlorente/data-bcn-prework/DATA_COURSE/PROJECTS/P2_Barcelona/Project-Week-2-Barcelona/datasets/3.-Population/most-frequent-names.csv')\n",
    "names.to_sql('most-frequent-names',engine)\n"
   ]
  },
  {
   "cell_type": "code",
   "execution_count": 19,
   "metadata": {},
   "outputs": [],
   "source": [
    "inmigrants_nationality = pd.read_csv('/Users/rubenmartinezlorente/data-bcn-prework/DATA_COURSE/PROJECTS/P2_Barcelona/Project-Week-2-Barcelona/datasets/3.-Population/immigrants-by-nationality.csv')\n",
    "inmigrants_nationality.to_sql('immigrants-by-nationality',engine)\n"
   ]
  },
  {
   "cell_type": "code",
   "execution_count": null,
   "metadata": {},
   "outputs": [],
   "source": []
  }
 ],
 "metadata": {
  "kernelspec": {
   "display_name": "Python 3",
   "language": "python",
   "name": "python3"
  },
  "language_info": {
   "codemirror_mode": {
    "name": "ipython",
    "version": 3
   },
   "file_extension": ".py",
   "mimetype": "text/x-python",
   "name": "python",
   "nbconvert_exporter": "python",
   "pygments_lexer": "ipython3",
   "version": "3.7.3"
  }
 },
 "nbformat": 4,
 "nbformat_minor": 2
}
